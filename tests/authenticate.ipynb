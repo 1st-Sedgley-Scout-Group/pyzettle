{
 "cells": [
  {
   "cell_type": "code",
   "execution_count": 2,
   "metadata": {},
   "outputs": [],
   "source": [
    "from pyzettle import authenticate\n",
    "from dotenv import load_dotenv\n",
    "import os"
   ]
  },
  {
   "cell_type": "code",
   "execution_count": 7,
   "metadata": {},
   "outputs": [
    {
     "data": {
      "text/plain": [
       "{'access_token': 'eyJraWQiOiIxNzI0NDg5NDA2MDM3IiwidHlwIjoiSldUIiwiYWxnIjoiUlMyNTYifQ.eyJpc3MiOiJpWmV0dGxlIiwiYXVkIjoiQVBJIiwiZXhwIjoxNzI0NTIwODE5LCJzdWIiOiI5MTMwNTM5OC0yZGZlLTExZWQtODdhNS0xYzYwYzYyY2NlMzQiLCJpYXQiOjE3MjQ1MTM2MTksInVzZXIiOnsidXNlclR5cGUiOiJVU0VSIiwidXVpZCI6IjkxMzA1Mzk4LTJkZmUtMTFlZC04N2E1LTFjNjBjNjJjY2UzNCIsIm9yZ1V1aWQiOiI5MTJkNDE4YS0yZGZlLTExZWQtOGUwYS0zZDcxMjlkNzYyN2YiLCJ1c2VyUm9sZSI6Ik9XTkVSIn0sInNjb3BlIjpbIlJFQUQ6VVNFUklORk8iLCJSRUFEOlBST0RVQ1QiLCJXUklURTpQUk9EVUNUIiwiUkVBRDpQVVJDSEFTRSIsIlJFQUQ6RklOQU5DRSJdLCJjbGllbnRfaWQiOiI0NDUwYjcxMS02MjIzLTExZWYtODkwNi05MWE2YzFmOTc1N2EifQ.J6e_Ix4pcN_7ztFfOiwLy05SEyyr-sBnuM3YDZChqYmxAT0JOqUCOXjqUbHNzI3X0zeP6BeXoX74t_Es_4MqIAfb1qk0uGr5uhAmRomvEunIdXjApHypnzkoWwZDe-lUiXhSprqFOkxgXygNp2P6ZpnivUxNHnhEJoZfQrwM_lOAc1XanxoTEgfuQOTtGg4e7RpHxPEKVziHUkxlqTyRjAit7lu73mzdx1KTGTxBk60-MAYjEphFna8AZhE73nHknX6HOA-WhUn7KwtlirqcIPoDuxkgugqBXBLyY804TdmAkLzrBpWrwU1DLY9PFLb7yviuY3cbXecqTjtUNnVNbg',\n",
       " 'expires_in': 7200}"
      ]
     },
     "execution_count": 7,
     "metadata": {},
     "output_type": "execute_result"
    }
   ],
   "source": [
    "load_dotenv()\n",
    "client_id = os.getenv(\"client_id\")\n",
    "api_key = os.getenv(\"key\")\n",
    "\n",
    "auth = authenticate.Authenticate(client_id, api_key)\n",
    "auth.full_token"
   ]
  }
 ],
 "metadata": {
  "kernelspec": {
   "display_name": "pyzettle-nJx9OvKJ-py3.10",
   "language": "python",
   "name": "python3"
  },
  "language_info": {
   "codemirror_mode": {
    "name": "ipython",
    "version": 3
   },
   "file_extension": ".py",
   "mimetype": "text/x-python",
   "name": "python",
   "nbconvert_exporter": "python",
   "pygments_lexer": "ipython3",
   "version": "3.10.11"
  }
 },
 "nbformat": 4,
 "nbformat_minor": 2
}
